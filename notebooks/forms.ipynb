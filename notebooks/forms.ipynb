{
 "cells": [
  {
   "cell_type": "code",
   "execution_count": 1,
   "metadata": {},
   "outputs": [],
   "source": [
    "import numpy as np\n",
    "import pandas as pd\n",
    "import matplotlib.pyplot as plt\n",
    "import seaborn as sns"
   ]
  },
  {
   "cell_type": "code",
   "execution_count": 2,
   "metadata": {},
   "outputs": [],
   "source": [
    "df = pd.read_csv('../resources/pokemonFill.csv')"
   ]
  },
  {
   "cell_type": "code",
   "execution_count": 3,
   "metadata": {},
   "outputs": [
    {
     "data": {
      "text/html": [
       "<div>\n",
       "<style scoped>\n",
       "    .dataframe tbody tr th:only-of-type {\n",
       "        vertical-align: middle;\n",
       "    }\n",
       "\n",
       "    .dataframe tbody tr th {\n",
       "        vertical-align: top;\n",
       "    }\n",
       "\n",
       "    .dataframe thead th {\n",
       "        text-align: right;\n",
       "    }\n",
       "</style>\n",
       "<table border=\"1\" class=\"dataframe\">\n",
       "  <thead>\n",
       "    <tr style=\"text-align: right;\">\n",
       "      <th></th>\n",
       "      <th>abilities</th>\n",
       "      <th>against_bug</th>\n",
       "      <th>against_dark</th>\n",
       "      <th>against_dragon</th>\n",
       "      <th>against_electric</th>\n",
       "      <th>against_fairy</th>\n",
       "      <th>against_fight</th>\n",
       "      <th>against_fire</th>\n",
       "      <th>against_flying</th>\n",
       "      <th>against_ghost</th>\n",
       "      <th>...</th>\n",
       "      <th>sp_attack</th>\n",
       "      <th>sp_defense</th>\n",
       "      <th>speed</th>\n",
       "      <th>type1</th>\n",
       "      <th>type2</th>\n",
       "      <th>weight_kg</th>\n",
       "      <th>generation</th>\n",
       "      <th>is_legendary</th>\n",
       "      <th>experience_cat</th>\n",
       "      <th>romaji_name</th>\n",
       "    </tr>\n",
       "  </thead>\n",
       "  <tbody>\n",
       "    <tr>\n",
       "      <th>0</th>\n",
       "      <td>['Overgrow', 'Chlorophyll']</td>\n",
       "      <td>1.0</td>\n",
       "      <td>1.0</td>\n",
       "      <td>1.0</td>\n",
       "      <td>0.5</td>\n",
       "      <td>0.5</td>\n",
       "      <td>0.5</td>\n",
       "      <td>2.0</td>\n",
       "      <td>2.0</td>\n",
       "      <td>1.0</td>\n",
       "      <td>...</td>\n",
       "      <td>65</td>\n",
       "      <td>65</td>\n",
       "      <td>45</td>\n",
       "      <td>grass</td>\n",
       "      <td>poison</td>\n",
       "      <td>6.9</td>\n",
       "      <td>1</td>\n",
       "      <td>0</td>\n",
       "      <td>Medium-Slow</td>\n",
       "      <td>Fushigidane</td>\n",
       "    </tr>\n",
       "    <tr>\n",
       "      <th>1</th>\n",
       "      <td>['Overgrow', 'Chlorophyll']</td>\n",
       "      <td>1.0</td>\n",
       "      <td>1.0</td>\n",
       "      <td>1.0</td>\n",
       "      <td>0.5</td>\n",
       "      <td>0.5</td>\n",
       "      <td>0.5</td>\n",
       "      <td>2.0</td>\n",
       "      <td>2.0</td>\n",
       "      <td>1.0</td>\n",
       "      <td>...</td>\n",
       "      <td>80</td>\n",
       "      <td>80</td>\n",
       "      <td>60</td>\n",
       "      <td>grass</td>\n",
       "      <td>poison</td>\n",
       "      <td>13.0</td>\n",
       "      <td>1</td>\n",
       "      <td>0</td>\n",
       "      <td>Medium-Slow</td>\n",
       "      <td>Fushigisou</td>\n",
       "    </tr>\n",
       "    <tr>\n",
       "      <th>2</th>\n",
       "      <td>['Overgrow', 'Chlorophyll']</td>\n",
       "      <td>1.0</td>\n",
       "      <td>1.0</td>\n",
       "      <td>1.0</td>\n",
       "      <td>0.5</td>\n",
       "      <td>0.5</td>\n",
       "      <td>0.5</td>\n",
       "      <td>2.0</td>\n",
       "      <td>2.0</td>\n",
       "      <td>1.0</td>\n",
       "      <td>...</td>\n",
       "      <td>122</td>\n",
       "      <td>120</td>\n",
       "      <td>80</td>\n",
       "      <td>grass</td>\n",
       "      <td>poison</td>\n",
       "      <td>100.0</td>\n",
       "      <td>1</td>\n",
       "      <td>0</td>\n",
       "      <td>Medium-Slow</td>\n",
       "      <td>Fushigibana</td>\n",
       "    </tr>\n",
       "    <tr>\n",
       "      <th>3</th>\n",
       "      <td>['Blaze', 'Solar Power']</td>\n",
       "      <td>0.5</td>\n",
       "      <td>1.0</td>\n",
       "      <td>1.0</td>\n",
       "      <td>1.0</td>\n",
       "      <td>0.5</td>\n",
       "      <td>1.0</td>\n",
       "      <td>0.5</td>\n",
       "      <td>1.0</td>\n",
       "      <td>1.0</td>\n",
       "      <td>...</td>\n",
       "      <td>60</td>\n",
       "      <td>50</td>\n",
       "      <td>65</td>\n",
       "      <td>fire</td>\n",
       "      <td>None</td>\n",
       "      <td>8.5</td>\n",
       "      <td>1</td>\n",
       "      <td>0</td>\n",
       "      <td>Medium-Slow</td>\n",
       "      <td>Hitokage</td>\n",
       "    </tr>\n",
       "    <tr>\n",
       "      <th>4</th>\n",
       "      <td>['Blaze', 'Solar Power']</td>\n",
       "      <td>0.5</td>\n",
       "      <td>1.0</td>\n",
       "      <td>1.0</td>\n",
       "      <td>1.0</td>\n",
       "      <td>0.5</td>\n",
       "      <td>1.0</td>\n",
       "      <td>0.5</td>\n",
       "      <td>1.0</td>\n",
       "      <td>1.0</td>\n",
       "      <td>...</td>\n",
       "      <td>80</td>\n",
       "      <td>65</td>\n",
       "      <td>80</td>\n",
       "      <td>fire</td>\n",
       "      <td>None</td>\n",
       "      <td>19.0</td>\n",
       "      <td>1</td>\n",
       "      <td>0</td>\n",
       "      <td>Medium-Slow</td>\n",
       "      <td>Lizardo</td>\n",
       "    </tr>\n",
       "  </tbody>\n",
       "</table>\n",
       "<p>5 rows × 43 columns</p>\n",
       "</div>"
      ],
      "text/plain": [
       "                     abilities  against_bug  against_dark  against_dragon  \\\n",
       "0  ['Overgrow', 'Chlorophyll']          1.0           1.0             1.0   \n",
       "1  ['Overgrow', 'Chlorophyll']          1.0           1.0             1.0   \n",
       "2  ['Overgrow', 'Chlorophyll']          1.0           1.0             1.0   \n",
       "3     ['Blaze', 'Solar Power']          0.5           1.0             1.0   \n",
       "4     ['Blaze', 'Solar Power']          0.5           1.0             1.0   \n",
       "\n",
       "   against_electric  against_fairy  against_fight  against_fire  \\\n",
       "0               0.5            0.5            0.5           2.0   \n",
       "1               0.5            0.5            0.5           2.0   \n",
       "2               0.5            0.5            0.5           2.0   \n",
       "3               1.0            0.5            1.0           0.5   \n",
       "4               1.0            0.5            1.0           0.5   \n",
       "\n",
       "   against_flying  against_ghost     ...       sp_attack  sp_defense  speed  \\\n",
       "0             2.0            1.0     ...              65          65     45   \n",
       "1             2.0            1.0     ...              80          80     60   \n",
       "2             2.0            1.0     ...             122         120     80   \n",
       "3             1.0            1.0     ...              60          50     65   \n",
       "4             1.0            1.0     ...              80          65     80   \n",
       "\n",
       "   type1   type2  weight_kg  generation  is_legendary  experience_cat  \\\n",
       "0  grass  poison        6.9           1             0     Medium-Slow   \n",
       "1  grass  poison       13.0           1             0     Medium-Slow   \n",
       "2  grass  poison      100.0           1             0     Medium-Slow   \n",
       "3   fire    None        8.5           1             0     Medium-Slow   \n",
       "4   fire    None       19.0           1             0     Medium-Slow   \n",
       "\n",
       "   romaji_name  \n",
       "0  Fushigidane  \n",
       "1   Fushigisou  \n",
       "2  Fushigibana  \n",
       "3     Hitokage  \n",
       "4      Lizardo  \n",
       "\n",
       "[5 rows x 43 columns]"
      ]
     },
     "execution_count": 3,
     "metadata": {},
     "output_type": "execute_result"
    }
   ],
   "source": [
    "df.head()"
   ]
  },
  {
   "cell_type": "markdown",
   "metadata": {},
   "source": [
    "Add column to mark pokemon with alternate forms, default value of 1"
   ]
  },
  {
   "cell_type": "code",
   "execution_count": 4,
   "metadata": {},
   "outputs": [],
   "source": [
    "df['forms'] = 1"
   ]
  },
  {
   "cell_type": "code",
   "execution_count": 5,
   "metadata": {},
   "outputs": [],
   "source": [
    "resistances = df.columns[df.columns.str.contains(r'against')]"
   ]
  },
  {
   "cell_type": "code",
   "execution_count": 6,
   "metadata": {},
   "outputs": [],
   "source": [
    "df_viz = df[['name', 'type1', 'type2', 'forms']]"
   ]
  },
  {
   "cell_type": "code",
   "execution_count": 7,
   "metadata": {},
   "outputs": [],
   "source": [
    "df_resistances = df[resistances]"
   ]
  },
  {
   "cell_type": "code",
   "execution_count": 8,
   "metadata": {},
   "outputs": [],
   "source": [
    "df_viz = pd.concat([df_viz, df_resistances], axis = 1)"
   ]
  },
  {
   "cell_type": "code",
   "execution_count": 9,
   "metadata": {},
   "outputs": [
    {
     "data": {
      "text/html": [
       "<div>\n",
       "<style scoped>\n",
       "    .dataframe tbody tr th:only-of-type {\n",
       "        vertical-align: middle;\n",
       "    }\n",
       "\n",
       "    .dataframe tbody tr th {\n",
       "        vertical-align: top;\n",
       "    }\n",
       "\n",
       "    .dataframe thead th {\n",
       "        text-align: right;\n",
       "    }\n",
       "</style>\n",
       "<table border=\"1\" class=\"dataframe\">\n",
       "  <thead>\n",
       "    <tr style=\"text-align: right;\">\n",
       "      <th></th>\n",
       "      <th>name</th>\n",
       "      <th>type1</th>\n",
       "      <th>type2</th>\n",
       "      <th>forms</th>\n",
       "      <th>against_bug</th>\n",
       "      <th>against_dark</th>\n",
       "      <th>against_dragon</th>\n",
       "      <th>against_electric</th>\n",
       "      <th>against_fairy</th>\n",
       "      <th>against_fight</th>\n",
       "      <th>...</th>\n",
       "      <th>against_ghost</th>\n",
       "      <th>against_grass</th>\n",
       "      <th>against_ground</th>\n",
       "      <th>against_ice</th>\n",
       "      <th>against_normal</th>\n",
       "      <th>against_poison</th>\n",
       "      <th>against_psychic</th>\n",
       "      <th>against_rock</th>\n",
       "      <th>against_steel</th>\n",
       "      <th>against_water</th>\n",
       "    </tr>\n",
       "  </thead>\n",
       "  <tbody>\n",
       "    <tr>\n",
       "      <th>0</th>\n",
       "      <td>Bulbasaur</td>\n",
       "      <td>grass</td>\n",
       "      <td>poison</td>\n",
       "      <td>1</td>\n",
       "      <td>1.0</td>\n",
       "      <td>1.0</td>\n",
       "      <td>1.0</td>\n",
       "      <td>0.5</td>\n",
       "      <td>0.5</td>\n",
       "      <td>0.5</td>\n",
       "      <td>...</td>\n",
       "      <td>1.0</td>\n",
       "      <td>0.25</td>\n",
       "      <td>1.0</td>\n",
       "      <td>2.0</td>\n",
       "      <td>1.0</td>\n",
       "      <td>1.0</td>\n",
       "      <td>2.0</td>\n",
       "      <td>1.0</td>\n",
       "      <td>1.0</td>\n",
       "      <td>0.5</td>\n",
       "    </tr>\n",
       "    <tr>\n",
       "      <th>1</th>\n",
       "      <td>Ivysaur</td>\n",
       "      <td>grass</td>\n",
       "      <td>poison</td>\n",
       "      <td>1</td>\n",
       "      <td>1.0</td>\n",
       "      <td>1.0</td>\n",
       "      <td>1.0</td>\n",
       "      <td>0.5</td>\n",
       "      <td>0.5</td>\n",
       "      <td>0.5</td>\n",
       "      <td>...</td>\n",
       "      <td>1.0</td>\n",
       "      <td>0.25</td>\n",
       "      <td>1.0</td>\n",
       "      <td>2.0</td>\n",
       "      <td>1.0</td>\n",
       "      <td>1.0</td>\n",
       "      <td>2.0</td>\n",
       "      <td>1.0</td>\n",
       "      <td>1.0</td>\n",
       "      <td>0.5</td>\n",
       "    </tr>\n",
       "    <tr>\n",
       "      <th>2</th>\n",
       "      <td>Venusaur</td>\n",
       "      <td>grass</td>\n",
       "      <td>poison</td>\n",
       "      <td>1</td>\n",
       "      <td>1.0</td>\n",
       "      <td>1.0</td>\n",
       "      <td>1.0</td>\n",
       "      <td>0.5</td>\n",
       "      <td>0.5</td>\n",
       "      <td>0.5</td>\n",
       "      <td>...</td>\n",
       "      <td>1.0</td>\n",
       "      <td>0.25</td>\n",
       "      <td>1.0</td>\n",
       "      <td>2.0</td>\n",
       "      <td>1.0</td>\n",
       "      <td>1.0</td>\n",
       "      <td>2.0</td>\n",
       "      <td>1.0</td>\n",
       "      <td>1.0</td>\n",
       "      <td>0.5</td>\n",
       "    </tr>\n",
       "    <tr>\n",
       "      <th>3</th>\n",
       "      <td>Charmander</td>\n",
       "      <td>fire</td>\n",
       "      <td>None</td>\n",
       "      <td>1</td>\n",
       "      <td>0.5</td>\n",
       "      <td>1.0</td>\n",
       "      <td>1.0</td>\n",
       "      <td>1.0</td>\n",
       "      <td>0.5</td>\n",
       "      <td>1.0</td>\n",
       "      <td>...</td>\n",
       "      <td>1.0</td>\n",
       "      <td>0.50</td>\n",
       "      <td>2.0</td>\n",
       "      <td>0.5</td>\n",
       "      <td>1.0</td>\n",
       "      <td>1.0</td>\n",
       "      <td>1.0</td>\n",
       "      <td>2.0</td>\n",
       "      <td>0.5</td>\n",
       "      <td>2.0</td>\n",
       "    </tr>\n",
       "    <tr>\n",
       "      <th>4</th>\n",
       "      <td>Charmeleon</td>\n",
       "      <td>fire</td>\n",
       "      <td>None</td>\n",
       "      <td>1</td>\n",
       "      <td>0.5</td>\n",
       "      <td>1.0</td>\n",
       "      <td>1.0</td>\n",
       "      <td>1.0</td>\n",
       "      <td>0.5</td>\n",
       "      <td>1.0</td>\n",
       "      <td>...</td>\n",
       "      <td>1.0</td>\n",
       "      <td>0.50</td>\n",
       "      <td>2.0</td>\n",
       "      <td>0.5</td>\n",
       "      <td>1.0</td>\n",
       "      <td>1.0</td>\n",
       "      <td>1.0</td>\n",
       "      <td>2.0</td>\n",
       "      <td>0.5</td>\n",
       "      <td>2.0</td>\n",
       "    </tr>\n",
       "  </tbody>\n",
       "</table>\n",
       "<p>5 rows × 22 columns</p>\n",
       "</div>"
      ],
      "text/plain": [
       "         name  type1   type2  forms  against_bug  against_dark  \\\n",
       "0   Bulbasaur  grass  poison      1          1.0           1.0   \n",
       "1     Ivysaur  grass  poison      1          1.0           1.0   \n",
       "2    Venusaur  grass  poison      1          1.0           1.0   \n",
       "3  Charmander   fire    None      1          0.5           1.0   \n",
       "4  Charmeleon   fire    None      1          0.5           1.0   \n",
       "\n",
       "   against_dragon  against_electric  against_fairy  against_fight  \\\n",
       "0             1.0               0.5            0.5            0.5   \n",
       "1             1.0               0.5            0.5            0.5   \n",
       "2             1.0               0.5            0.5            0.5   \n",
       "3             1.0               1.0            0.5            1.0   \n",
       "4             1.0               1.0            0.5            1.0   \n",
       "\n",
       "       ...        against_ghost  against_grass  against_ground  against_ice  \\\n",
       "0      ...                  1.0           0.25             1.0          2.0   \n",
       "1      ...                  1.0           0.25             1.0          2.0   \n",
       "2      ...                  1.0           0.25             1.0          2.0   \n",
       "3      ...                  1.0           0.50             2.0          0.5   \n",
       "4      ...                  1.0           0.50             2.0          0.5   \n",
       "\n",
       "   against_normal  against_poison  against_psychic  against_rock  \\\n",
       "0             1.0             1.0              2.0           1.0   \n",
       "1             1.0             1.0              2.0           1.0   \n",
       "2             1.0             1.0              2.0           1.0   \n",
       "3             1.0             1.0              1.0           2.0   \n",
       "4             1.0             1.0              1.0           2.0   \n",
       "\n",
       "   against_steel  against_water  \n",
       "0            1.0            0.5  \n",
       "1            1.0            0.5  \n",
       "2            1.0            0.5  \n",
       "3            0.5            2.0  \n",
       "4            0.5            2.0  \n",
       "\n",
       "[5 rows x 22 columns]"
      ]
     },
     "execution_count": 9,
     "metadata": {},
     "output_type": "execute_result"
    }
   ],
   "source": [
    "df_viz.head()"
   ]
  },
  {
   "cell_type": "code",
   "execution_count": 10,
   "metadata": {},
   "outputs": [],
   "source": [
    "#Change forms for Alola Pokemon to 2\n",
    "df_viz.iloc[18, 3] = 2\n",
    "df_viz.iloc[19, 3] = 2\n",
    "df_viz.iloc[25, 3] = 2\n",
    "df_viz.iloc[26, 3] = 2\n",
    "df_viz.iloc[27, 3] = 2\n",
    "df_viz.iloc[36, 3] = 2\n",
    "df_viz.iloc[37, 3] = 2\n",
    "df_viz.iloc[49, 3] = 2\n",
    "df_viz.iloc[50, 3] = 2\n",
    "df_viz.iloc[51, 3] = 2\n",
    "df_viz.iloc[52, 3] = 2\n",
    "df_viz.iloc[73, 3] = 2\n",
    "df_viz.iloc[74, 3] = 2\n",
    "df_viz.iloc[75, 3] = 2\n",
    "df_viz.iloc[87, 3] = 2\n",
    "df_viz.iloc[88, 3] = 2\n",
    "df_viz.iloc[102, 3] = 2\n",
    "df_viz.iloc[104, 3] = 2"
   ]
  },
  {
   "cell_type": "markdown",
   "metadata": {},
   "source": [
    "Check and correct type1 and type2 for above"
   ]
  },
  {
   "cell_type": "code",
   "execution_count": 11,
   "metadata": {},
   "outputs": [],
   "source": [
    "df_viz.iloc[18, 2] = 'None'"
   ]
  },
  {
   "cell_type": "code",
   "execution_count": 12,
   "metadata": {},
   "outputs": [],
   "source": [
    "df_viz.iloc[19, 2] = 'None'"
   ]
  },
  {
   "cell_type": "code",
   "execution_count": 13,
   "metadata": {},
   "outputs": [],
   "source": [
    "df_viz.iloc[26, 2] = 'None'"
   ]
  },
  {
   "cell_type": "code",
   "execution_count": 14,
   "metadata": {},
   "outputs": [],
   "source": [
    "df_viz.iloc[27, 2] = 'None'"
   ]
  },
  {
   "cell_type": "code",
   "execution_count": 15,
   "metadata": {},
   "outputs": [],
   "source": [
    "df_viz.iloc[36, 2] = 'None'"
   ]
  },
  {
   "cell_type": "code",
   "execution_count": 16,
   "metadata": {},
   "outputs": [],
   "source": [
    "df_viz.iloc[37, 2] = 'None'"
   ]
  },
  {
   "cell_type": "code",
   "execution_count": 17,
   "metadata": {},
   "outputs": [],
   "source": [
    "df_viz.iloc[49, 2] = 'None'"
   ]
  },
  {
   "cell_type": "code",
   "execution_count": 18,
   "metadata": {},
   "outputs": [],
   "source": [
    "df_viz.iloc[50, 2] = 'None'"
   ]
  },
  {
   "cell_type": "code",
   "execution_count": 19,
   "metadata": {},
   "outputs": [],
   "source": [
    "df_viz.iloc[51, 2] = 'None'"
   ]
  },
  {
   "cell_type": "code",
   "execution_count": 20,
   "metadata": {},
   "outputs": [],
   "source": [
    "df_viz.iloc[52, 2] = 'None'"
   ]
  },
  {
   "cell_type": "code",
   "execution_count": 21,
   "metadata": {},
   "outputs": [],
   "source": [
    "df_viz.iloc[87, 2] = 'None'"
   ]
  },
  {
   "cell_type": "code",
   "execution_count": 22,
   "metadata": {},
   "outputs": [],
   "source": [
    "df_viz.iloc[88, 2] = 'None'"
   ]
  },
  {
   "cell_type": "code",
   "execution_count": 23,
   "metadata": {},
   "outputs": [],
   "source": [
    "df_viz.iloc[104, 2] = 'None'"
   ]
  },
  {
   "cell_type": "markdown",
   "metadata": {},
   "source": [
    "Add type1_alt and type2_alt for Alola Forms"
   ]
  },
  {
   "cell_type": "code",
   "execution_count": 24,
   "metadata": {},
   "outputs": [],
   "source": [
    "df_viz['type1_alt'] = 'None'"
   ]
  },
  {
   "cell_type": "code",
   "execution_count": 25,
   "metadata": {},
   "outputs": [],
   "source": [
    "df_viz['type2_alt'] = 'None'"
   ]
  },
  {
   "cell_type": "code",
   "execution_count": 26,
   "metadata": {},
   "outputs": [],
   "source": [
    "df_viz.iloc[18, -2] = 'dark'\n",
    "df_viz.iloc[18, -1] = 'normal'"
   ]
  },
  {
   "cell_type": "code",
   "execution_count": 27,
   "metadata": {},
   "outputs": [],
   "source": [
    "df_viz.iloc[19, -2] = 'dark'\n",
    "df_viz.iloc[19, -1] = 'normal'"
   ]
  },
  {
   "cell_type": "code",
   "execution_count": 28,
   "metadata": {},
   "outputs": [],
   "source": [
    "df_viz.iloc[25, -2] = 'electric'\n",
    "df_viz.iloc[25, -1] = 'psychic'"
   ]
  },
  {
   "cell_type": "code",
   "execution_count": 29,
   "metadata": {},
   "outputs": [],
   "source": [
    "df_viz.iloc[26, -2] = 'ice'\n",
    "df_viz.iloc[26, -1] = 'steel'"
   ]
  },
  {
   "cell_type": "code",
   "execution_count": 30,
   "metadata": {},
   "outputs": [],
   "source": [
    "df_viz.iloc[27, -2] = 'ice'\n",
    "df_viz.iloc[27, -1] = 'steel'"
   ]
  },
  {
   "cell_type": "code",
   "execution_count": 31,
   "metadata": {},
   "outputs": [],
   "source": [
    "df_viz.iloc[36, -2] = 'ice'\n",
    "df_viz.iloc[36, -1] = 'None'"
   ]
  },
  {
   "cell_type": "code",
   "execution_count": 32,
   "metadata": {},
   "outputs": [],
   "source": [
    "df_viz.iloc[37, -2] = 'ice'\n",
    "df_viz.iloc[37, -1] = 'fairy'"
   ]
  },
  {
   "cell_type": "code",
   "execution_count": 33,
   "metadata": {},
   "outputs": [],
   "source": [
    "df_viz.iloc[49, -2] = 'ground'\n",
    "df_viz.iloc[49, -1] = 'steel'"
   ]
  },
  {
   "cell_type": "code",
   "execution_count": 34,
   "metadata": {},
   "outputs": [],
   "source": [
    "df_viz.iloc[50, -2] = 'ground'\n",
    "df_viz.iloc[50, -1] = 'steel'"
   ]
  },
  {
   "cell_type": "code",
   "execution_count": 35,
   "metadata": {},
   "outputs": [],
   "source": [
    "df_viz.iloc[51, -2] = 'dark'\n",
    "df_viz.iloc[51, -1] = 'None'"
   ]
  },
  {
   "cell_type": "code",
   "execution_count": 36,
   "metadata": {},
   "outputs": [],
   "source": [
    "df_viz.iloc[52, -2] = 'dark'\n",
    "df_viz.iloc[52, -1] = 'None'"
   ]
  },
  {
   "cell_type": "code",
   "execution_count": 37,
   "metadata": {},
   "outputs": [],
   "source": [
    "df_viz.iloc[73, -2] = 'rock'\n",
    "df_viz.iloc[73, -1] = 'electric'"
   ]
  },
  {
   "cell_type": "code",
   "execution_count": 38,
   "metadata": {},
   "outputs": [],
   "source": [
    "df_viz.iloc[74, -2] = 'rock'\n",
    "df_viz.iloc[74, -1] = 'electric'"
   ]
  },
  {
   "cell_type": "code",
   "execution_count": 39,
   "metadata": {},
   "outputs": [],
   "source": [
    "df_viz.iloc[75, -2] = 'rock'\n",
    "df_viz.iloc[75, -1] = 'electric'"
   ]
  },
  {
   "cell_type": "code",
   "execution_count": 40,
   "metadata": {},
   "outputs": [],
   "source": [
    "df_viz.iloc[87, -2] = 'poison'\n",
    "df_viz.iloc[87, -1] = 'dark'"
   ]
  },
  {
   "cell_type": "code",
   "execution_count": 41,
   "metadata": {},
   "outputs": [],
   "source": [
    "df_viz.iloc[88, -2] = 'poison'\n",
    "df_viz.iloc[88, -1] = 'dark'"
   ]
  },
  {
   "cell_type": "code",
   "execution_count": 42,
   "metadata": {},
   "outputs": [],
   "source": [
    "df_viz.iloc[102, -2] = 'grass'\n",
    "df_viz.iloc[102, -1] = 'dragon'"
   ]
  },
  {
   "cell_type": "code",
   "execution_count": 43,
   "metadata": {},
   "outputs": [],
   "source": [
    "df_viz.iloc[104, -2] = 'fire'\n",
    "df_viz.iloc[104, -1] = 'ghost'"
   ]
  },
  {
   "cell_type": "markdown",
   "metadata": {},
   "source": [
    "Other forms"
   ]
  },
  {
   "cell_type": "code",
   "execution_count": 44,
   "metadata": {},
   "outputs": [],
   "source": [
    "df_viz.iloc[412, 3] = 3"
   ]
  },
  {
   "cell_type": "code",
   "execution_count": 45,
   "metadata": {},
   "outputs": [],
   "source": [
    "df_viz.iloc[412, -2] = 'bug'\n",
    "df_viz.iloc[412, -1] = 'ground'"
   ]
  },
  {
   "cell_type": "code",
   "execution_count": 46,
   "metadata": {},
   "outputs": [],
   "source": [
    "#Make columns for third forms\n",
    "df_viz['type1_alt1'] = 'None'\n",
    "df_viz['type2_alt1'] = 'None'"
   ]
  },
  {
   "cell_type": "code",
   "execution_count": 47,
   "metadata": {},
   "outputs": [],
   "source": [
    "df_viz.iloc[412, -2] = 'bug'\n",
    "df_viz.iloc[412, -1] = 'steel'"
   ]
  },
  {
   "cell_type": "code",
   "execution_count": 48,
   "metadata": {},
   "outputs": [
    {
     "data": {
      "text/plain": [
       "name                Wormadam\n",
       "type1                    bug\n",
       "type2                  grass\n",
       "forms                      3\n",
       "against_bug                2\n",
       "against_dark               1\n",
       "against_dragon             1\n",
       "against_electric         0.5\n",
       "against_fairy              1\n",
       "against_fight            0.5\n",
       "against_fire               4\n",
       "against_flying             4\n",
       "against_ghost              1\n",
       "against_grass           0.25\n",
       "against_ground          0.25\n",
       "against_ice                2\n",
       "against_normal             1\n",
       "against_poison             2\n",
       "against_psychic            1\n",
       "against_rock               2\n",
       "against_steel              1\n",
       "against_water            0.5\n",
       "type1_alt                bug\n",
       "type2_alt             ground\n",
       "type1_alt1               bug\n",
       "type2_alt1             steel\n",
       "Name: 412, dtype: object"
      ]
     },
     "execution_count": 48,
     "metadata": {},
     "output_type": "execute_result"
    }
   ],
   "source": [
    "df_viz.iloc[412, :]"
   ]
  },
  {
   "cell_type": "code",
   "execution_count": 49,
   "metadata": {},
   "outputs": [],
   "source": [
    "df_viz.iloc[478, 3] = 6"
   ]
  },
  {
   "cell_type": "code",
   "execution_count": 50,
   "metadata": {},
   "outputs": [],
   "source": [
    "#Add columns for up to 6 forms\n",
    "df_viz['type1_alt2'] = 'None'\n",
    "df_viz['type2_alt2'] = 'None'\n",
    "df_viz['type1_alt3'] = 'None'\n",
    "df_viz['type2_alt3'] = 'None'\n",
    "df_viz['type1_alt4'] = 'None'\n",
    "df_viz['type2_alt4'] = 'None'"
   ]
  },
  {
   "cell_type": "code",
   "execution_count": 51,
   "metadata": {},
   "outputs": [],
   "source": [
    "df_viz.iloc[478, -10] = 'electric'\n",
    "df_viz.iloc[478, -9] = 'grass'\n",
    "df_viz.iloc[478, -8] = 'electric'\n",
    "df_viz.iloc[478, -7] = 'ice'\n",
    "df_viz.iloc[478, -6] = 'electric'\n",
    "df_viz.iloc[478, -5] = 'fire'\n",
    "df_viz.iloc[478, -4] = 'electric'\n",
    "df_viz.iloc[478, -3] = 'flying'\n",
    "df_viz.iloc[478, -2] = 'electric'\n",
    "df_viz.iloc[478, -1] = 'water'"
   ]
  },
  {
   "cell_type": "code",
   "execution_count": 52,
   "metadata": {},
   "outputs": [
    {
     "data": {
      "text/plain": [
       "name                   Rotom\n",
       "type1               electric\n",
       "type2                  ghost\n",
       "forms                      6\n",
       "against_bug              0.5\n",
       "against_dark               2\n",
       "against_dragon             1\n",
       "against_electric         0.5\n",
       "against_fairy              1\n",
       "against_fight              0\n",
       "against_fire               1\n",
       "against_flying           0.5\n",
       "against_ghost              2\n",
       "against_grass              1\n",
       "against_ground             2\n",
       "against_ice                1\n",
       "against_normal             0\n",
       "against_poison           0.5\n",
       "against_psychic            1\n",
       "against_rock               1\n",
       "against_steel            0.5\n",
       "against_water              1\n",
       "type1_alt           electric\n",
       "type2_alt              grass\n",
       "type1_alt1          electric\n",
       "type2_alt1               ice\n",
       "type1_alt2          electric\n",
       "type2_alt2              fire\n",
       "type1_alt3          electric\n",
       "type2_alt3            flying\n",
       "type1_alt4          electric\n",
       "type2_alt4             water\n",
       "Name: 478, dtype: object"
      ]
     },
     "execution_count": 52,
     "metadata": {},
     "output_type": "execute_result"
    }
   ],
   "source": [
    "df_viz.iloc[478, :]"
   ]
  },
  {
   "cell_type": "code",
   "execution_count": 53,
   "metadata": {},
   "outputs": [],
   "source": [
    "df_viz.iloc[491, 3] = 2\n",
    "df_viz.iloc[491, -10] = 'grass'\n",
    "df_viz.iloc[491, -9] = 'flying'"
   ]
  },
  {
   "cell_type": "code",
   "execution_count": 54,
   "metadata": {},
   "outputs": [
    {
     "data": {
      "text/plain": [
       "name                Shaymin\n",
       "type1                 grass\n",
       "type2                 grass\n",
       "forms                     2\n",
       "against_bug               2\n",
       "against_dark              1\n",
       "against_dragon            1\n",
       "against_electric        0.5\n",
       "against_fairy             1\n",
       "against_fight             1\n",
       "against_fire              2\n",
       "against_flying            2\n",
       "against_ghost             1\n",
       "against_grass           0.5\n",
       "against_ground          0.5\n",
       "against_ice               2\n",
       "against_normal            1\n",
       "against_poison            2\n",
       "against_psychic           1\n",
       "against_rock              1\n",
       "against_steel             1\n",
       "against_water           0.5\n",
       "type1_alt             grass\n",
       "type2_alt            flying\n",
       "type1_alt1             None\n",
       "type2_alt1             None\n",
       "type1_alt2             None\n",
       "type2_alt2             None\n",
       "type1_alt3             None\n",
       "type2_alt3             None\n",
       "type1_alt4             None\n",
       "type2_alt4             None\n",
       "Name: 491, dtype: object"
      ]
     },
     "execution_count": 54,
     "metadata": {},
     "output_type": "execute_result"
    }
   ],
   "source": [
    "df_viz.iloc[491, :]"
   ]
  },
  {
   "cell_type": "code",
   "execution_count": 55,
   "metadata": {},
   "outputs": [],
   "source": [
    "df_viz.iloc[554, 3] = 2\n",
    "df_viz.iloc[554, -10] = 'fire'\n",
    "df_viz.iloc[554, -9] = 'psychic'"
   ]
  },
  {
   "cell_type": "code",
   "execution_count": 56,
   "metadata": {},
   "outputs": [
    {
     "data": {
      "text/plain": [
       "name                Darmanitan\n",
       "type1                     fire\n",
       "type2                     fire\n",
       "forms                        2\n",
       "against_bug                0.5\n",
       "against_dark                 1\n",
       "against_dragon               1\n",
       "against_electric             1\n",
       "against_fairy              0.5\n",
       "against_fight                1\n",
       "against_fire               0.5\n",
       "against_flying               1\n",
       "against_ghost                1\n",
       "against_grass              0.5\n",
       "against_ground               2\n",
       "against_ice                0.5\n",
       "against_normal               1\n",
       "against_poison               1\n",
       "against_psychic              1\n",
       "against_rock                 2\n",
       "against_steel              0.5\n",
       "against_water                2\n",
       "type1_alt                 fire\n",
       "type2_alt              psychic\n",
       "type1_alt1                None\n",
       "type2_alt1                None\n",
       "type1_alt2                None\n",
       "type2_alt2                None\n",
       "type1_alt3                None\n",
       "type2_alt3                None\n",
       "type1_alt4                None\n",
       "type2_alt4                None\n",
       "Name: 554, dtype: object"
      ]
     },
     "execution_count": 56,
     "metadata": {},
     "output_type": "execute_result"
    }
   ],
   "source": [
    "df_viz.iloc[554, :]"
   ]
  },
  {
   "cell_type": "code",
   "execution_count": 57,
   "metadata": {},
   "outputs": [],
   "source": [
    "df_viz.iloc[719, 3] = 2\n",
    "df_viz.iloc[719, -10] = 'psychic'\n",
    "df_viz.iloc[719, -9] = 'dark'"
   ]
  },
  {
   "cell_type": "code",
   "execution_count": 58,
   "metadata": {},
   "outputs": [
    {
     "data": {
      "text/plain": [
       "name                  Hoopa\n",
       "type1               psychic\n",
       "type2                 ghost\n",
       "forms                     2\n",
       "against_bug               1\n",
       "against_dark              4\n",
       "against_dragon            1\n",
       "against_electric          1\n",
       "against_fairy             1\n",
       "against_fight             0\n",
       "against_fire              1\n",
       "against_flying            1\n",
       "against_ghost             4\n",
       "against_grass             1\n",
       "against_ground            1\n",
       "against_ice               1\n",
       "against_normal            0\n",
       "against_poison          0.5\n",
       "against_psychic         0.5\n",
       "against_rock              1\n",
       "against_steel             1\n",
       "against_water             1\n",
       "type1_alt           psychic\n",
       "type2_alt              dark\n",
       "type1_alt1             None\n",
       "type2_alt1             None\n",
       "type1_alt2             None\n",
       "type2_alt2             None\n",
       "type1_alt3             None\n",
       "type2_alt3             None\n",
       "type1_alt4             None\n",
       "type2_alt4             None\n",
       "Name: 719, dtype: object"
      ]
     },
     "execution_count": 58,
     "metadata": {},
     "output_type": "execute_result"
    }
   ],
   "source": [
    "df_viz.iloc[719, :]"
   ]
  },
  {
   "cell_type": "code",
   "execution_count": 59,
   "metadata": {},
   "outputs": [],
   "source": [
    "df_viz.iloc[740, 3] = 4\n",
    "df_viz.iloc[740, 1] = 'electric'"
   ]
  },
  {
   "cell_type": "code",
   "execution_count": 60,
   "metadata": {},
   "outputs": [],
   "source": [
    "df_viz.iloc[740, -10] = 'fire'\n",
    "df_viz.iloc[740, -9] = 'flying'\n",
    "df_viz.iloc[740, -8] = 'psychic'\n",
    "df_viz.iloc[740, -7] = 'flying'\n",
    "df_viz.iloc[740, -6] = 'ghost'\n",
    "df_viz.iloc[740, -5] = 'flying'"
   ]
  },
  {
   "cell_type": "code",
   "execution_count": 61,
   "metadata": {},
   "outputs": [
    {
     "data": {
      "text/plain": [
       "name                Oricorio\n",
       "type1               electric\n",
       "type2                 flying\n",
       "forms                      4\n",
       "against_bug             0.25\n",
       "against_dark               1\n",
       "against_dragon             1\n",
       "against_electric           2\n",
       "against_fairy            0.5\n",
       "against_fight            0.5\n",
       "against_fire             0.5\n",
       "against_flying             1\n",
       "against_ghost              1\n",
       "against_grass           0.25\n",
       "against_ground             0\n",
       "against_ice                1\n",
       "against_normal             1\n",
       "against_poison             1\n",
       "against_psychic            1\n",
       "against_rock               4\n",
       "against_steel            0.5\n",
       "against_water              2\n",
       "type1_alt               fire\n",
       "type2_alt             flying\n",
       "type1_alt1           psychic\n",
       "type2_alt1            flying\n",
       "type1_alt2             ghost\n",
       "type2_alt2            flying\n",
       "type1_alt3              None\n",
       "type2_alt3              None\n",
       "type1_alt4              None\n",
       "type2_alt4              None\n",
       "Name: 740, dtype: object"
      ]
     },
     "execution_count": 61,
     "metadata": {},
     "output_type": "execute_result"
    }
   ],
   "source": [
    "df_viz.iloc[740, :]"
   ]
  },
  {
   "cell_type": "code",
   "execution_count": 62,
   "metadata": {},
   "outputs": [],
   "source": [
    "df_viz.iloc[799, 3] = 3\n",
    "df_viz.iloc[799, -10] = 'psychic'\n",
    "df_viz.iloc[799, -9] = 'steel'\n",
    "df_viz.iloc[799, -8] = 'psychic'\n",
    "df_viz.iloc[799, -7] = 'ghost'"
   ]
  },
  {
   "cell_type": "code",
   "execution_count": 63,
   "metadata": {},
   "outputs": [
    {
     "data": {
      "text/plain": [
       "name                Necrozma\n",
       "type1                psychic\n",
       "type2                   None\n",
       "forms                      3\n",
       "against_bug                2\n",
       "against_dark               2\n",
       "against_dragon             1\n",
       "against_electric           1\n",
       "against_fairy              1\n",
       "against_fight            0.5\n",
       "against_fire               1\n",
       "against_flying             1\n",
       "against_ghost              2\n",
       "against_grass              1\n",
       "against_ground             1\n",
       "against_ice                1\n",
       "against_normal             1\n",
       "against_poison             1\n",
       "against_psychic          0.5\n",
       "against_rock               1\n",
       "against_steel              1\n",
       "against_water              1\n",
       "type1_alt            psychic\n",
       "type2_alt              steel\n",
       "type1_alt1           psychic\n",
       "type2_alt1             ghost\n",
       "type1_alt2              None\n",
       "type2_alt2              None\n",
       "type1_alt3              None\n",
       "type2_alt3              None\n",
       "type1_alt4              None\n",
       "type2_alt4              None\n",
       "Name: 799, dtype: object"
      ]
     },
     "execution_count": 63,
     "metadata": {},
     "output_type": "execute_result"
    }
   ],
   "source": [
    "df_viz.iloc[799]"
   ]
  },
  {
   "cell_type": "code",
   "execution_count": 64,
   "metadata": {},
   "outputs": [],
   "source": [
    "df_viz.iloc[350, 3] = 4\n",
    "df_viz.iloc[350, -10] = 'fire'\n",
    "df_viz.iloc[350, -8] = 'water'\n",
    "df_viz.iloc[350, -6] = 'ice'"
   ]
  },
  {
   "cell_type": "code",
   "execution_count": 65,
   "metadata": {},
   "outputs": [
    {
     "data": {
      "text/plain": [
       "name                Castform\n",
       "type1                 normal\n",
       "type2                   None\n",
       "forms                      4\n",
       "against_bug                1\n",
       "against_dark               1\n",
       "against_dragon             1\n",
       "against_electric           1\n",
       "against_fairy              1\n",
       "against_fight              2\n",
       "against_fire               1\n",
       "against_flying             1\n",
       "against_ghost              0\n",
       "against_grass              1\n",
       "against_ground             1\n",
       "against_ice                1\n",
       "against_normal             1\n",
       "against_poison             1\n",
       "against_psychic            1\n",
       "against_rock               1\n",
       "against_steel              1\n",
       "against_water              1\n",
       "type1_alt               fire\n",
       "type2_alt               None\n",
       "type1_alt1             water\n",
       "type2_alt1              None\n",
       "type1_alt2               ice\n",
       "type2_alt2              None\n",
       "type1_alt3              None\n",
       "type2_alt3              None\n",
       "type1_alt4              None\n",
       "type2_alt4              None\n",
       "Name: 350, dtype: object"
      ]
     },
     "execution_count": 65,
     "metadata": {},
     "output_type": "execute_result"
    }
   ],
   "source": [
    "df_viz.iloc[350]"
   ]
  },
  {
   "cell_type": "code",
   "execution_count": 66,
   "metadata": {},
   "outputs": [],
   "source": [
    "df_viz.iloc[492, 3] = 18"
   ]
  },
  {
   "cell_type": "code",
   "execution_count": 67,
   "metadata": {},
   "outputs": [
    {
     "data": {
      "text/plain": [
       "name                Arceus\n",
       "type1               normal\n",
       "type2                 None\n",
       "forms                   18\n",
       "against_bug              1\n",
       "against_dark             1\n",
       "against_dragon           1\n",
       "against_electric         1\n",
       "against_fairy            1\n",
       "against_fight            2\n",
       "against_fire             1\n",
       "against_flying           1\n",
       "against_ghost            0\n",
       "against_grass            1\n",
       "against_ground           1\n",
       "against_ice              1\n",
       "against_normal           1\n",
       "against_poison           1\n",
       "against_psychic          1\n",
       "against_rock             1\n",
       "against_steel            1\n",
       "against_water            1\n",
       "type1_alt             None\n",
       "type2_alt             None\n",
       "type1_alt1            None\n",
       "type2_alt1            None\n",
       "type1_alt2            None\n",
       "type2_alt2            None\n",
       "type1_alt3            None\n",
       "type2_alt3            None\n",
       "type1_alt4            None\n",
       "type2_alt4            None\n",
       "Name: 492, dtype: object"
      ]
     },
     "execution_count": 67,
     "metadata": {},
     "output_type": "execute_result"
    }
   ],
   "source": [
    "df_viz.iloc[492]"
   ]
  },
  {
   "cell_type": "code",
   "execution_count": 68,
   "metadata": {},
   "outputs": [],
   "source": [
    "df_viz.iloc[772, 3] = 18"
   ]
  },
  {
   "cell_type": "code",
   "execution_count": 69,
   "metadata": {},
   "outputs": [
    {
     "data": {
      "text/plain": [
       "name                Silvally\n",
       "type1                 normal\n",
       "type2                   None\n",
       "forms                     18\n",
       "against_bug                1\n",
       "against_dark               1\n",
       "against_dragon             1\n",
       "against_electric           1\n",
       "against_fairy              1\n",
       "against_fight              2\n",
       "against_fire               1\n",
       "against_flying             1\n",
       "against_ghost              0\n",
       "against_grass              1\n",
       "against_ground             1\n",
       "against_ice                1\n",
       "against_normal             1\n",
       "against_poison             1\n",
       "against_psychic            1\n",
       "against_rock               1\n",
       "against_steel              1\n",
       "against_water              1\n",
       "type1_alt               None\n",
       "type2_alt               None\n",
       "type1_alt1              None\n",
       "type2_alt1              None\n",
       "type1_alt2              None\n",
       "type2_alt2              None\n",
       "type1_alt3              None\n",
       "type2_alt3              None\n",
       "type1_alt4              None\n",
       "type2_alt4              None\n",
       "Name: 772, dtype: object"
      ]
     },
     "execution_count": 69,
     "metadata": {},
     "output_type": "execute_result"
    }
   ],
   "source": [
    "df_viz.iloc[772]"
   ]
  },
  {
   "cell_type": "markdown",
   "metadata": {},
   "source": [
    "Added types for all alternate forms  \n",
    "**Exception** Silvally and Arceus have 'forms' 18, so I can do something with that in D3  "
   ]
  },
  {
   "cell_type": "code",
   "execution_count": 70,
   "metadata": {},
   "outputs": [
    {
     "data": {
      "text/plain": [
       "array([ 1,  2,  4,  3,  6, 18])"
      ]
     },
     "execution_count": 70,
     "metadata": {},
     "output_type": "execute_result"
    }
   ],
   "source": [
    "df_viz['forms'].unique()"
   ]
  },
  {
   "cell_type": "markdown",
   "metadata": {},
   "source": [
    "Have template for forms = 1  \n",
    "forms = 2, split rect into two parts and fill same as forms = 1  \n",
    "forms = 3, split rect in half, fill left half in dominant type and right half in variegated fill  \n",
    "forms = 4, for Castform split rect into quarters and for Oricorio fill left half in variegated and right half with flying  \n",
    "forms = 6, same as forms = 3  \n",
    "forms = 18, split into 18 as 6x3 with 6 on longer edge"
   ]
  },
  {
   "cell_type": "code",
   "execution_count": 71,
   "metadata": {},
   "outputs": [
    {
     "data": {
      "text/html": [
       "<div>\n",
       "<style scoped>\n",
       "    .dataframe tbody tr th:only-of-type {\n",
       "        vertical-align: middle;\n",
       "    }\n",
       "\n",
       "    .dataframe tbody tr th {\n",
       "        vertical-align: top;\n",
       "    }\n",
       "\n",
       "    .dataframe thead th {\n",
       "        text-align: right;\n",
       "    }\n",
       "</style>\n",
       "<table border=\"1\" class=\"dataframe\">\n",
       "  <thead>\n",
       "    <tr style=\"text-align: right;\">\n",
       "      <th></th>\n",
       "      <th>name</th>\n",
       "      <th>type1</th>\n",
       "      <th>type2</th>\n",
       "      <th>forms</th>\n",
       "      <th>against_bug</th>\n",
       "      <th>against_dark</th>\n",
       "      <th>against_dragon</th>\n",
       "      <th>against_electric</th>\n",
       "      <th>against_fairy</th>\n",
       "      <th>against_fight</th>\n",
       "      <th>...</th>\n",
       "      <th>type1_alt</th>\n",
       "      <th>type2_alt</th>\n",
       "      <th>type1_alt1</th>\n",
       "      <th>type2_alt1</th>\n",
       "      <th>type1_alt2</th>\n",
       "      <th>type2_alt2</th>\n",
       "      <th>type1_alt3</th>\n",
       "      <th>type2_alt3</th>\n",
       "      <th>type1_alt4</th>\n",
       "      <th>type2_alt4</th>\n",
       "    </tr>\n",
       "  </thead>\n",
       "  <tbody>\n",
       "    <tr>\n",
       "      <th>478</th>\n",
       "      <td>Rotom</td>\n",
       "      <td>electric</td>\n",
       "      <td>ghost</td>\n",
       "      <td>6</td>\n",
       "      <td>0.5</td>\n",
       "      <td>2.0</td>\n",
       "      <td>1.0</td>\n",
       "      <td>0.5</td>\n",
       "      <td>1.0</td>\n",
       "      <td>0.0</td>\n",
       "      <td>...</td>\n",
       "      <td>electric</td>\n",
       "      <td>grass</td>\n",
       "      <td>electric</td>\n",
       "      <td>ice</td>\n",
       "      <td>electric</td>\n",
       "      <td>fire</td>\n",
       "      <td>electric</td>\n",
       "      <td>flying</td>\n",
       "      <td>electric</td>\n",
       "      <td>water</td>\n",
       "    </tr>\n",
       "  </tbody>\n",
       "</table>\n",
       "<p>1 rows × 32 columns</p>\n",
       "</div>"
      ],
      "text/plain": [
       "      name     type1  type2  forms  against_bug  against_dark  against_dragon  \\\n",
       "478  Rotom  electric  ghost      6          0.5           2.0             1.0   \n",
       "\n",
       "     against_electric  against_fairy  against_fight     ...      type1_alt  \\\n",
       "478               0.5            1.0            0.0     ...       electric   \n",
       "\n",
       "     type2_alt  type1_alt1  type2_alt1  type1_alt2  type2_alt2  type1_alt3  \\\n",
       "478      grass    electric         ice    electric        fire    electric   \n",
       "\n",
       "     type2_alt3  type1_alt4  type2_alt4  \n",
       "478      flying    electric       water  \n",
       "\n",
       "[1 rows x 32 columns]"
      ]
     },
     "execution_count": 71,
     "metadata": {},
     "output_type": "execute_result"
    }
   ],
   "source": [
    "df_viz[df_viz['forms'] == 6]"
   ]
  },
  {
   "cell_type": "code",
   "execution_count": 72,
   "metadata": {},
   "outputs": [
    {
     "data": {
      "text/html": [
       "<div>\n",
       "<style scoped>\n",
       "    .dataframe tbody tr th:only-of-type {\n",
       "        vertical-align: middle;\n",
       "    }\n",
       "\n",
       "    .dataframe tbody tr th {\n",
       "        vertical-align: top;\n",
       "    }\n",
       "\n",
       "    .dataframe thead th {\n",
       "        text-align: right;\n",
       "    }\n",
       "</style>\n",
       "<table border=\"1\" class=\"dataframe\">\n",
       "  <thead>\n",
       "    <tr style=\"text-align: right;\">\n",
       "      <th></th>\n",
       "      <th>name</th>\n",
       "      <th>type1</th>\n",
       "      <th>type2</th>\n",
       "      <th>forms</th>\n",
       "      <th>against_bug</th>\n",
       "      <th>against_dark</th>\n",
       "      <th>against_dragon</th>\n",
       "      <th>against_electric</th>\n",
       "      <th>against_fairy</th>\n",
       "      <th>against_fight</th>\n",
       "      <th>...</th>\n",
       "      <th>type1_alt</th>\n",
       "      <th>type2_alt</th>\n",
       "      <th>type1_alt1</th>\n",
       "      <th>type2_alt1</th>\n",
       "      <th>type1_alt2</th>\n",
       "      <th>type2_alt2</th>\n",
       "      <th>type1_alt3</th>\n",
       "      <th>type2_alt3</th>\n",
       "      <th>type1_alt4</th>\n",
       "      <th>type2_alt4</th>\n",
       "    </tr>\n",
       "  </thead>\n",
       "  <tbody>\n",
       "    <tr>\n",
       "      <th>350</th>\n",
       "      <td>Castform</td>\n",
       "      <td>normal</td>\n",
       "      <td>None</td>\n",
       "      <td>4</td>\n",
       "      <td>1.00</td>\n",
       "      <td>1.0</td>\n",
       "      <td>1.0</td>\n",
       "      <td>1.0</td>\n",
       "      <td>1.0</td>\n",
       "      <td>2.0</td>\n",
       "      <td>...</td>\n",
       "      <td>fire</td>\n",
       "      <td>None</td>\n",
       "      <td>water</td>\n",
       "      <td>None</td>\n",
       "      <td>ice</td>\n",
       "      <td>None</td>\n",
       "      <td>None</td>\n",
       "      <td>None</td>\n",
       "      <td>None</td>\n",
       "      <td>None</td>\n",
       "    </tr>\n",
       "    <tr>\n",
       "      <th>740</th>\n",
       "      <td>Oricorio</td>\n",
       "      <td>electric</td>\n",
       "      <td>flying</td>\n",
       "      <td>4</td>\n",
       "      <td>0.25</td>\n",
       "      <td>1.0</td>\n",
       "      <td>1.0</td>\n",
       "      <td>2.0</td>\n",
       "      <td>0.5</td>\n",
       "      <td>0.5</td>\n",
       "      <td>...</td>\n",
       "      <td>fire</td>\n",
       "      <td>flying</td>\n",
       "      <td>psychic</td>\n",
       "      <td>flying</td>\n",
       "      <td>ghost</td>\n",
       "      <td>flying</td>\n",
       "      <td>None</td>\n",
       "      <td>None</td>\n",
       "      <td>None</td>\n",
       "      <td>None</td>\n",
       "    </tr>\n",
       "  </tbody>\n",
       "</table>\n",
       "<p>2 rows × 32 columns</p>\n",
       "</div>"
      ],
      "text/plain": [
       "         name     type1   type2  forms  against_bug  against_dark  \\\n",
       "350  Castform    normal    None      4         1.00           1.0   \n",
       "740  Oricorio  electric  flying      4         0.25           1.0   \n",
       "\n",
       "     against_dragon  against_electric  against_fairy  against_fight  \\\n",
       "350             1.0               1.0            1.0            2.0   \n",
       "740             1.0               2.0            0.5            0.5   \n",
       "\n",
       "        ...      type1_alt  type2_alt  type1_alt1  type2_alt1  type1_alt2  \\\n",
       "350     ...           fire       None       water        None         ice   \n",
       "740     ...           fire     flying     psychic      flying       ghost   \n",
       "\n",
       "     type2_alt2  type1_alt3  type2_alt3  type1_alt4  type2_alt4  \n",
       "350        None        None        None        None        None  \n",
       "740      flying        None        None        None        None  \n",
       "\n",
       "[2 rows x 32 columns]"
      ]
     },
     "execution_count": 72,
     "metadata": {},
     "output_type": "execute_result"
    }
   ],
   "source": [
    "df_viz[df_viz['forms'] == 4]"
   ]
  },
  {
   "cell_type": "code",
   "execution_count": 73,
   "metadata": {},
   "outputs": [
    {
     "data": {
      "text/html": [
       "<div>\n",
       "<style scoped>\n",
       "    .dataframe tbody tr th:only-of-type {\n",
       "        vertical-align: middle;\n",
       "    }\n",
       "\n",
       "    .dataframe tbody tr th {\n",
       "        vertical-align: top;\n",
       "    }\n",
       "\n",
       "    .dataframe thead th {\n",
       "        text-align: right;\n",
       "    }\n",
       "</style>\n",
       "<table border=\"1\" class=\"dataframe\">\n",
       "  <thead>\n",
       "    <tr style=\"text-align: right;\">\n",
       "      <th></th>\n",
       "      <th>name</th>\n",
       "      <th>type1</th>\n",
       "      <th>type2</th>\n",
       "      <th>forms</th>\n",
       "      <th>against_bug</th>\n",
       "      <th>against_dark</th>\n",
       "      <th>against_dragon</th>\n",
       "      <th>against_electric</th>\n",
       "      <th>against_fairy</th>\n",
       "      <th>against_fight</th>\n",
       "      <th>...</th>\n",
       "      <th>type1_alt</th>\n",
       "      <th>type2_alt</th>\n",
       "      <th>type1_alt1</th>\n",
       "      <th>type2_alt1</th>\n",
       "      <th>type1_alt2</th>\n",
       "      <th>type2_alt2</th>\n",
       "      <th>type1_alt3</th>\n",
       "      <th>type2_alt3</th>\n",
       "      <th>type1_alt4</th>\n",
       "      <th>type2_alt4</th>\n",
       "    </tr>\n",
       "  </thead>\n",
       "  <tbody>\n",
       "    <tr>\n",
       "      <th>412</th>\n",
       "      <td>Wormadam</td>\n",
       "      <td>bug</td>\n",
       "      <td>grass</td>\n",
       "      <td>3</td>\n",
       "      <td>2.0</td>\n",
       "      <td>1.0</td>\n",
       "      <td>1.0</td>\n",
       "      <td>0.5</td>\n",
       "      <td>1.0</td>\n",
       "      <td>0.5</td>\n",
       "      <td>...</td>\n",
       "      <td>bug</td>\n",
       "      <td>ground</td>\n",
       "      <td>bug</td>\n",
       "      <td>steel</td>\n",
       "      <td>None</td>\n",
       "      <td>None</td>\n",
       "      <td>None</td>\n",
       "      <td>None</td>\n",
       "      <td>None</td>\n",
       "      <td>None</td>\n",
       "    </tr>\n",
       "    <tr>\n",
       "      <th>799</th>\n",
       "      <td>Necrozma</td>\n",
       "      <td>psychic</td>\n",
       "      <td>None</td>\n",
       "      <td>3</td>\n",
       "      <td>2.0</td>\n",
       "      <td>2.0</td>\n",
       "      <td>1.0</td>\n",
       "      <td>1.0</td>\n",
       "      <td>1.0</td>\n",
       "      <td>0.5</td>\n",
       "      <td>...</td>\n",
       "      <td>psychic</td>\n",
       "      <td>steel</td>\n",
       "      <td>psychic</td>\n",
       "      <td>ghost</td>\n",
       "      <td>None</td>\n",
       "      <td>None</td>\n",
       "      <td>None</td>\n",
       "      <td>None</td>\n",
       "      <td>None</td>\n",
       "      <td>None</td>\n",
       "    </tr>\n",
       "  </tbody>\n",
       "</table>\n",
       "<p>2 rows × 32 columns</p>\n",
       "</div>"
      ],
      "text/plain": [
       "         name    type1  type2  forms  against_bug  against_dark  \\\n",
       "412  Wormadam      bug  grass      3          2.0           1.0   \n",
       "799  Necrozma  psychic   None      3          2.0           2.0   \n",
       "\n",
       "     against_dragon  against_electric  against_fairy  against_fight  \\\n",
       "412             1.0               0.5            1.0            0.5   \n",
       "799             1.0               1.0            1.0            0.5   \n",
       "\n",
       "        ...      type1_alt  type2_alt  type1_alt1  type2_alt1  type1_alt2  \\\n",
       "412     ...            bug     ground         bug       steel        None   \n",
       "799     ...        psychic      steel     psychic       ghost        None   \n",
       "\n",
       "     type2_alt2  type1_alt3  type2_alt3  type1_alt4  type2_alt4  \n",
       "412        None        None        None        None        None  \n",
       "799        None        None        None        None        None  \n",
       "\n",
       "[2 rows x 32 columns]"
      ]
     },
     "execution_count": 73,
     "metadata": {},
     "output_type": "execute_result"
    }
   ],
   "source": [
    "df_viz[df_viz['forms'] == 3]"
   ]
  },
  {
   "cell_type": "code",
   "execution_count": 77,
   "metadata": {},
   "outputs": [],
   "source": [
    "df_viz = pd.concat([df_viz, df['pokedex_number']], axis = 1)"
   ]
  },
  {
   "cell_type": "code",
   "execution_count": 79,
   "metadata": {},
   "outputs": [],
   "source": [
    "#Written to csv\n",
    "#df_viz.to_csv('../resources/pokemonTypes.csv', index=False)"
   ]
  },
  {
   "cell_type": "code",
   "execution_count": 78,
   "metadata": {},
   "outputs": [
    {
     "data": {
      "text/plain": [
       "Index(['name', 'type1', 'type2', 'forms', 'against_bug', 'against_dark',\n",
       "       'against_dragon', 'against_electric', 'against_fairy', 'against_fight',\n",
       "       'against_fire', 'against_flying', 'against_ghost', 'against_grass',\n",
       "       'against_ground', 'against_ice', 'against_normal', 'against_poison',\n",
       "       'against_psychic', 'against_rock', 'against_steel', 'against_water',\n",
       "       'type1_alt', 'type2_alt', 'type1_alt1', 'type2_alt1', 'type1_alt2',\n",
       "       'type2_alt2', 'type1_alt3', 'type2_alt3', 'type1_alt4', 'type2_alt4',\n",
       "       'pokedex_number'],\n",
       "      dtype='object')"
      ]
     },
     "execution_count": 78,
     "metadata": {},
     "output_type": "execute_result"
    }
   ],
   "source": [
    "df_viz.columns"
   ]
  }
 ],
 "metadata": {
  "kernelspec": {
   "display_name": "Python 3",
   "language": "python",
   "name": "python3"
  },
  "language_info": {
   "codemirror_mode": {
    "name": "ipython",
    "version": 3
   },
   "file_extension": ".py",
   "mimetype": "text/x-python",
   "name": "python",
   "nbconvert_exporter": "python",
   "pygments_lexer": "ipython3",
   "version": "3.7.0"
  }
 },
 "nbformat": 4,
 "nbformat_minor": 2
}
